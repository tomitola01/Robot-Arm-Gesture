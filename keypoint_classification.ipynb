{
 "cells": [
  {
   "cell_type": "code",
   "execution_count": 1,
   "metadata": {},
   "outputs": [],
   "source": [
    "import csv\n",
    "\n",
    "import numpy as np\n",
    "import tensorflow as tf\n",
    "from sklearn.model_selection import train_test_split\n",
    "\n",
    "RANDOM_SEED = 42"
   ]
  },
  {
   "cell_type": "markdown",
   "metadata": {},
   "source": [
    "# 各パス指定"
   ]
  },
  {
   "cell_type": "code",
   "execution_count": 2,
   "metadata": {},
   "outputs": [],
   "source": [
    "dataset = 'model/keypoint_classifier/keypoint.csv'\n",
    "model_save_path = 'model/keypoint_classifier/keypoint_classifier.hdf5'"
   ]
  },
  {
   "cell_type": "markdown",
   "metadata": {},
   "source": [
    "# 分類数設定"
   ]
  },
  {
   "cell_type": "code",
   "execution_count": 3,
   "metadata": {},
   "outputs": [],
   "source": [
    "NUM_CLASSES = 5"
   ]
  },
  {
   "cell_type": "markdown",
   "metadata": {},
   "source": [
    "# 学習データ読み込み"
   ]
  },
  {
   "cell_type": "code",
   "execution_count": 4,
   "metadata": {},
   "outputs": [],
   "source": [
    "X_dataset = np.loadtxt(dataset, delimiter=',', dtype='float32', usecols=list(range(1, (21 * 2) + 1)))"
   ]
  },
  {
   "cell_type": "code",
   "execution_count": 5,
   "metadata": {},
   "outputs": [],
   "source": [
    "y_dataset = np.loadtxt(dataset, delimiter=',', dtype='int32', usecols=(0))"
   ]
  },
  {
   "cell_type": "code",
   "execution_count": 6,
   "metadata": {},
   "outputs": [],
   "source": [
    "X_train, X_test, y_train, y_test = train_test_split(X_dataset, y_dataset, train_size=0.75, random_state=RANDOM_SEED)"
   ]
  },
  {
   "cell_type": "markdown",
   "metadata": {},
   "source": [
    "# モデル構築"
   ]
  },
  {
   "cell_type": "code",
   "execution_count": 7,
   "metadata": {},
   "outputs": [],
   "source": [
    "model = tf.keras.models.Sequential([\n",
    "    tf.keras.layers.Input((21 * 2, )),\n",
    "    tf.keras.layers.Dropout(0.2),\n",
    "    tf.keras.layers.Dense(20, activation='relu'),\n",
    "    tf.keras.layers.Dropout(0.4),\n",
    "    tf.keras.layers.Dense(10, activation='relu'),\n",
    "    tf.keras.layers.Dense(NUM_CLASSES, activation='softmax')\n",
    "])"
   ]
  },
  {
   "cell_type": "code",
   "execution_count": 8,
   "metadata": {},
   "outputs": [
    {
     "name": "stdout",
     "output_type": "stream",
     "text": [
      "Model: \"sequential\"\n",
      "_________________________________________________________________\n",
      " Layer (type)                Output Shape              Param #   \n",
      "=================================================================\n",
      " dropout (Dropout)           (None, 42)                0         \n",
      "                                                                 \n",
      " dense (Dense)               (None, 20)                860       \n",
      "                                                                 \n",
      " dropout_1 (Dropout)         (None, 20)                0         \n",
      "                                                                 \n",
      " dense_1 (Dense)             (None, 10)                210       \n",
      "                                                                 \n",
      " dense_2 (Dense)             (None, 5)                 55        \n",
      "                                                                 \n",
      "=================================================================\n",
      "Total params: 1125 (4.39 KB)\n",
      "Trainable params: 1125 (4.39 KB)\n",
      "Non-trainable params: 0 (0.00 Byte)\n",
      "_________________________________________________________________\n"
     ]
    }
   ],
   "source": [
    "model.summary()  # tf.keras.utils.plot_model(model, show_shapes=True)"
   ]
  },
  {
   "cell_type": "code",
   "execution_count": 9,
   "metadata": {},
   "outputs": [],
   "source": [
    "# モデルチェックポイントのコールバック\n",
    "cp_callback = tf.keras.callbacks.ModelCheckpoint(\n",
    "    model_save_path, verbose=1, save_weights_only=False)\n",
    "# 早期打ち切り用コールバック\n",
    "es_callback = tf.keras.callbacks.EarlyStopping(patience=20, verbose=1)"
   ]
  },
  {
   "cell_type": "code",
   "execution_count": 10,
   "metadata": {},
   "outputs": [],
   "source": [
    "# モデルコンパイル\n",
    "model.compile(\n",
    "    optimizer='adam',\n",
    "    loss='sparse_categorical_crossentropy',\n",
    "    metrics=['accuracy']\n",
    ")"
   ]
  },
  {
   "cell_type": "markdown",
   "metadata": {},
   "source": [
    "# モデル訓練"
   ]
  },
  {
   "cell_type": "code",
   "execution_count": 11,
   "metadata": {
    "scrolled": true
   },
   "outputs": [
    {
     "name": "stdout",
     "output_type": "stream",
     "text": [
      "Epoch 1/1000\n",
      "28/30 [===========================>..] - ETA: 0s - loss: 1.6356 - accuracy: 0.2335 \n",
      "Epoch 1: saving model to model/keypoint_classifier\\keypoint_classifier.hdf5\n",
      "30/30 [==============================] - 1s 9ms/step - loss: 1.6312 - accuracy: 0.2386 - val_loss: 1.4817 - val_accuracy: 0.3323\n",
      "Epoch 2/1000\n",
      "22/30 [=====================>........] - ETA: 0s - loss: 1.4750 - accuracy: 0.3409\n",
      "Epoch 2: saving model to model/keypoint_classifier\\keypoint_classifier.hdf5\n",
      "30/30 [==============================] - 0s 5ms/step - loss: 1.4575 - accuracy: 0.3461 - val_loss: 1.3569 - val_accuracy: 0.3682\n"
     ]
    },
    {
     "name": "stderr",
     "output_type": "stream",
     "text": [
      "C:\\Program Files\\Python39\\lib\\site-packages\\keras\\src\\engine\\training.py:3000: UserWarning: You are saving your model as an HDF5 file via `model.save()`. This file format is considered legacy. We recommend using instead the native Keras format, e.g. `model.save('my_model.keras')`.\n",
      "  saving_api.save_model(\n"
     ]
    },
    {
     "name": "stdout",
     "output_type": "stream",
     "text": [
      "Epoch 3/1000\n",
      "20/30 [===================>..........] - ETA: 0s - loss: 1.3803 - accuracy: 0.3723\n",
      "Epoch 3: saving model to model/keypoint_classifier\\keypoint_classifier.hdf5\n",
      "30/30 [==============================] - 0s 6ms/step - loss: 1.3692 - accuracy: 0.3799 - val_loss: 1.2573 - val_accuracy: 0.4633\n",
      "Epoch 4/1000\n",
      "26/30 [=========================>....] - ETA: 0s - loss: 1.3101 - accuracy: 0.4117\n",
      "Epoch 4: saving model to model/keypoint_classifier\\keypoint_classifier.hdf5\n",
      "30/30 [==============================] - 0s 5ms/step - loss: 1.3020 - accuracy: 0.4159 - val_loss: 1.1674 - val_accuracy: 0.5719\n",
      "Epoch 5/1000\n",
      "28/30 [===========================>..] - ETA: 0s - loss: 1.2391 - accuracy: 0.4629\n",
      "Epoch 5: saving model to model/keypoint_classifier\\keypoint_classifier.hdf5\n",
      "30/30 [==============================] - 0s 5ms/step - loss: 1.2410 - accuracy: 0.4603 - val_loss: 1.1004 - val_accuracy: 0.6342\n",
      "Epoch 6/1000\n",
      "23/30 [======================>.......] - ETA: 0s - loss: 1.1939 - accuracy: 0.4983\n",
      "Epoch 6: saving model to model/keypoint_classifier\\keypoint_classifier.hdf5\n",
      "30/30 [==============================] - 0s 5ms/step - loss: 1.1857 - accuracy: 0.5032 - val_loss: 1.0408 - val_accuracy: 0.6542\n",
      "Epoch 7/1000\n",
      "29/30 [============================>.] - ETA: 0s - loss: 1.1527 - accuracy: 0.5159\n",
      "Epoch 7: saving model to model/keypoint_classifier\\keypoint_classifier.hdf5\n",
      "30/30 [==============================] - 0s 4ms/step - loss: 1.1514 - accuracy: 0.5170 - val_loss: 0.9918 - val_accuracy: 0.6581\n",
      "Epoch 8/1000\n",
      "27/30 [==========================>...] - ETA: 0s - loss: 1.1132 - accuracy: 0.5376\n",
      "Epoch 8: saving model to model/keypoint_classifier\\keypoint_classifier.hdf5\n",
      "30/30 [==============================] - 0s 5ms/step - loss: 1.1064 - accuracy: 0.5389 - val_loss: 0.9400 - val_accuracy: 0.6909\n",
      "Epoch 9/1000\n",
      " 1/30 [>.............................] - ETA: 0s - loss: 1.0531 - accuracy: 0.5781\n",
      "Epoch 9: saving model to model/keypoint_classifier\\keypoint_classifier.hdf5\n",
      "30/30 [==============================] - 0s 4ms/step - loss: 1.0827 - accuracy: 0.5413 - val_loss: 0.8944 - val_accuracy: 0.7149\n",
      "Epoch 10/1000\n",
      "27/30 [==========================>...] - ETA: 0s - loss: 1.0480 - accuracy: 0.5648\n",
      "Epoch 10: saving model to model/keypoint_classifier\\keypoint_classifier.hdf5\n",
      "30/30 [==============================] - 0s 5ms/step - loss: 1.0502 - accuracy: 0.5631 - val_loss: 0.8579 - val_accuracy: 0.7324\n",
      "Epoch 11/1000\n",
      "27/30 [==========================>...] - ETA: 0s - loss: 1.0253 - accuracy: 0.5796\n",
      "Epoch 11: saving model to model/keypoint_classifier\\keypoint_classifier.hdf5\n",
      "30/30 [==============================] - 0s 5ms/step - loss: 1.0269 - accuracy: 0.5777 - val_loss: 0.8212 - val_accuracy: 0.7428\n",
      "Epoch 12/1000\n",
      "22/30 [=====================>........] - ETA: 0s - loss: 1.0043 - accuracy: 0.5817\n",
      "Epoch 12: saving model to model/keypoint_classifier\\keypoint_classifier.hdf5\n",
      "30/30 [==============================] - 0s 5ms/step - loss: 1.0075 - accuracy: 0.5857 - val_loss: 0.7874 - val_accuracy: 0.7580\n",
      "Epoch 13/1000\n",
      "26/30 [=========================>....] - ETA: 0s - loss: 0.9803 - accuracy: 0.5995\n",
      "Epoch 13: saving model to model/keypoint_classifier\\keypoint_classifier.hdf5\n",
      "30/30 [==============================] - 0s 5ms/step - loss: 0.9823 - accuracy: 0.5988 - val_loss: 0.7508 - val_accuracy: 0.7732\n",
      "Epoch 14/1000\n",
      " 1/30 [>.............................] - ETA: 0s - loss: 0.9869 - accuracy: 0.6250\n",
      "Epoch 14: saving model to model/keypoint_classifier\\keypoint_classifier.hdf5\n",
      "30/30 [==============================] - 0s 4ms/step - loss: 0.9702 - accuracy: 0.6044 - val_loss: 0.7241 - val_accuracy: 0.7708\n",
      "Epoch 15/1000\n",
      "28/30 [===========================>..] - ETA: 0s - loss: 0.9449 - accuracy: 0.6094\n",
      "Epoch 15: saving model to model/keypoint_classifier\\keypoint_classifier.hdf5\n",
      "30/30 [==============================] - 0s 5ms/step - loss: 0.9423 - accuracy: 0.6126 - val_loss: 0.6934 - val_accuracy: 0.8051\n",
      "Epoch 16/1000\n",
      "25/30 [========================>.....] - ETA: 0s - loss: 0.9131 - accuracy: 0.6331\n",
      "Epoch 16: saving model to model/keypoint_classifier\\keypoint_classifier.hdf5\n",
      "30/30 [==============================] - 0s 5ms/step - loss: 0.9216 - accuracy: 0.6297 - val_loss: 0.6684 - val_accuracy: 0.8195\n",
      "Epoch 17/1000\n",
      "24/30 [=======================>......] - ETA: 0s - loss: 0.9077 - accuracy: 0.6318\n",
      "Epoch 17: saving model to model/keypoint_classifier\\keypoint_classifier.hdf5\n",
      "30/30 [==============================] - 0s 5ms/step - loss: 0.9097 - accuracy: 0.6286 - val_loss: 0.6487 - val_accuracy: 0.8075\n",
      "Epoch 18/1000\n",
      "25/30 [========================>.....] - ETA: 0s - loss: 0.9053 - accuracy: 0.6334\n",
      "Epoch 18: saving model to model/keypoint_classifier\\keypoint_classifier.hdf5\n",
      "30/30 [==============================] - 0s 4ms/step - loss: 0.9036 - accuracy: 0.6363 - val_loss: 0.6277 - val_accuracy: 0.8387\n",
      "Epoch 19/1000\n",
      "27/30 [==========================>...] - ETA: 0s - loss: 0.8950 - accuracy: 0.6473\n",
      "Epoch 19: saving model to model/keypoint_classifier\\keypoint_classifier.hdf5\n",
      "30/30 [==============================] - 0s 5ms/step - loss: 0.8883 - accuracy: 0.6496 - val_loss: 0.6124 - val_accuracy: 0.8371\n",
      "Epoch 20/1000\n",
      " 1/30 [>.............................] - ETA: 0s - loss: 0.8871 - accuracy: 0.6094\n",
      "Epoch 20: saving model to model/keypoint_classifier\\keypoint_classifier.hdf5\n",
      "30/30 [==============================] - 0s 5ms/step - loss: 0.8794 - accuracy: 0.6446 - val_loss: 0.5928 - val_accuracy: 0.8578\n",
      "Epoch 21/1000\n",
      "27/30 [==========================>...] - ETA: 0s - loss: 0.8648 - accuracy: 0.6560\n",
      "Epoch 21: saving model to model/keypoint_classifier\\keypoint_classifier.hdf5\n",
      "30/30 [==============================] - 0s 4ms/step - loss: 0.8695 - accuracy: 0.6544 - val_loss: 0.5792 - val_accuracy: 0.8706\n",
      "Epoch 22/1000\n",
      "24/30 [=======================>......] - ETA: 0s - loss: 0.8485 - accuracy: 0.6644\n",
      "Epoch 22: saving model to model/keypoint_classifier\\keypoint_classifier.hdf5\n",
      "30/30 [==============================] - 0s 5ms/step - loss: 0.8481 - accuracy: 0.6669 - val_loss: 0.5586 - val_accuracy: 0.8898\n",
      "Epoch 23/1000\n",
      "25/30 [========================>.....] - ETA: 0s - loss: 0.8428 - accuracy: 0.6691\n",
      "Epoch 23: saving model to model/keypoint_classifier\\keypoint_classifier.hdf5\n",
      "30/30 [==============================] - 0s 6ms/step - loss: 0.8411 - accuracy: 0.6701 - val_loss: 0.5446 - val_accuracy: 0.8922\n",
      "Epoch 24/1000\n",
      "17/30 [================>.............] - ETA: 0s - loss: 0.8511 - accuracy: 0.6498\n",
      "Epoch 24: saving model to model/keypoint_classifier\\keypoint_classifier.hdf5\n",
      "30/30 [==============================] - 0s 6ms/step - loss: 0.8528 - accuracy: 0.6576 - val_loss: 0.5439 - val_accuracy: 0.8954\n",
      "Epoch 25/1000\n",
      " 1/30 [>.............................] - ETA: 0s - loss: 0.9263 - accuracy: 0.6094\n",
      "Epoch 25: saving model to model/keypoint_classifier\\keypoint_classifier.hdf5\n",
      "30/30 [==============================] - 0s 4ms/step - loss: 0.8252 - accuracy: 0.6741 - val_loss: 0.5270 - val_accuracy: 0.8922\n",
      "Epoch 26/1000\n",
      "22/30 [=====================>........] - ETA: 0s - loss: 0.8111 - accuracy: 0.6875\n",
      "Epoch 26: saving model to model/keypoint_classifier\\keypoint_classifier.hdf5\n",
      "30/30 [==============================] - 0s 5ms/step - loss: 0.8079 - accuracy: 0.6826 - val_loss: 0.5163 - val_accuracy: 0.8946\n",
      "Epoch 27/1000\n",
      "27/30 [==========================>...] - ETA: 0s - loss: 0.7994 - accuracy: 0.7069\n",
      "Epoch 27: saving model to model/keypoint_classifier\\keypoint_classifier.hdf5\n",
      "30/30 [==============================] - 0s 4ms/step - loss: 0.8075 - accuracy: 0.7023 - val_loss: 0.4989 - val_accuracy: 0.8970\n",
      "Epoch 28/1000\n",
      "29/30 [============================>.] - ETA: 0s - loss: 0.7918 - accuracy: 0.6999\n",
      "Epoch 28: saving model to model/keypoint_classifier\\keypoint_classifier.hdf5\n",
      "30/30 [==============================] - 0s 4ms/step - loss: 0.7910 - accuracy: 0.7002 - val_loss: 0.4899 - val_accuracy: 0.9034\n",
      "Epoch 29/1000\n",
      "29/30 [============================>.] - ETA: 0s - loss: 0.7762 - accuracy: 0.7077\n",
      "Epoch 29: saving model to model/keypoint_classifier\\keypoint_classifier.hdf5\n",
      "30/30 [==============================] - 0s 4ms/step - loss: 0.7780 - accuracy: 0.7074 - val_loss: 0.4829 - val_accuracy: 0.9018\n",
      "Epoch 30/1000\n",
      "24/30 [=======================>......] - ETA: 0s - loss: 0.8052 - accuracy: 0.6895\n",
      "Epoch 30: saving model to model/keypoint_classifier\\keypoint_classifier.hdf5\n",
      "30/30 [==============================] - 0s 4ms/step - loss: 0.7926 - accuracy: 0.6968 - val_loss: 0.4802 - val_accuracy: 0.9089\n",
      "Epoch 31/1000\n",
      "20/30 [===================>..........] - ETA: 0s - loss: 0.7425 - accuracy: 0.7219\n",
      "Epoch 31: saving model to model/keypoint_classifier\\keypoint_classifier.hdf5\n",
      "30/30 [==============================] - 0s 6ms/step - loss: 0.7629 - accuracy: 0.7170 - val_loss: 0.4667 - val_accuracy: 0.9113\n",
      "Epoch 32/1000\n",
      "26/30 [=========================>....] - ETA: 0s - loss: 0.7542 - accuracy: 0.7203\n",
      "Epoch 32: saving model to model/keypoint_classifier\\keypoint_classifier.hdf5\n",
      "30/30 [==============================] - 0s 4ms/step - loss: 0.7600 - accuracy: 0.7149 - val_loss: 0.4603 - val_accuracy: 0.9065\n",
      "Epoch 33/1000\n",
      "25/30 [========================>.....] - ETA: 0s - loss: 0.7526 - accuracy: 0.7181\n",
      "Epoch 33: saving model to model/keypoint_classifier\\keypoint_classifier.hdf5\n",
      "30/30 [==============================] - 0s 4ms/step - loss: 0.7480 - accuracy: 0.7181 - val_loss: 0.4532 - val_accuracy: 0.9121\n",
      "Epoch 34/1000\n",
      "27/30 [==========================>...] - ETA: 0s - loss: 0.7428 - accuracy: 0.7222\n",
      "Epoch 34: saving model to model/keypoint_classifier\\keypoint_classifier.hdf5\n",
      "30/30 [==============================] - 0s 4ms/step - loss: 0.7409 - accuracy: 0.7202 - val_loss: 0.4464 - val_accuracy: 0.9073\n",
      "Epoch 35/1000\n",
      " 1/30 [>.............................] - ETA: 0s - loss: 0.7235 - accuracy: 0.7422\n",
      "Epoch 35: saving model to model/keypoint_classifier\\keypoint_classifier.hdf5\n",
      "30/30 [==============================] - 0s 4ms/step - loss: 0.7667 - accuracy: 0.7133 - val_loss: 0.4436 - val_accuracy: 0.9065\n",
      "Epoch 36/1000\n",
      "29/30 [============================>.] - ETA: 0s - loss: 0.7240 - accuracy: 0.7188\n",
      "Epoch 36: saving model to model/keypoint_classifier\\keypoint_classifier.hdf5\n",
      "30/30 [==============================] - 0s 4ms/step - loss: 0.7240 - accuracy: 0.7191 - val_loss: 0.4393 - val_accuracy: 0.9105\n",
      "Epoch 37/1000\n",
      "29/30 [============================>.] - ETA: 0s - loss: 0.7381 - accuracy: 0.7255\n",
      "Epoch 37: saving model to model/keypoint_classifier\\keypoint_classifier.hdf5\n",
      "30/30 [==============================] - 0s 4ms/step - loss: 0.7383 - accuracy: 0.7252 - val_loss: 0.4228 - val_accuracy: 0.9153\n",
      "Epoch 38/1000\n",
      " 1/30 [>.............................] - ETA: 0s - loss: 0.7331 - accuracy: 0.7656\n",
      "Epoch 38: saving model to model/keypoint_classifier\\keypoint_classifier.hdf5\n",
      "30/30 [==============================] - 0s 5ms/step - loss: 0.7107 - accuracy: 0.7417 - val_loss: 0.4170 - val_accuracy: 0.9217\n",
      "Epoch 39/1000\n",
      "23/30 [======================>.......] - ETA: 0s - loss: 0.7267 - accuracy: 0.7279\n",
      "Epoch 39: saving model to model/keypoint_classifier\\keypoint_classifier.hdf5\n",
      "30/30 [==============================] - 0s 5ms/step - loss: 0.7185 - accuracy: 0.7308 - val_loss: 0.4154 - val_accuracy: 0.9169\n",
      "Epoch 40/1000\n",
      "26/30 [=========================>....] - ETA: 0s - loss: 0.7025 - accuracy: 0.7425\n",
      "Epoch 40: saving model to model/keypoint_classifier\\keypoint_classifier.hdf5\n",
      "30/30 [==============================] - 0s 4ms/step - loss: 0.7168 - accuracy: 0.7386 - val_loss: 0.4110 - val_accuracy: 0.9169\n",
      "Epoch 41/1000\n",
      "26/30 [=========================>....] - ETA: 0s - loss: 0.7295 - accuracy: 0.7326\n",
      "Epoch 41: saving model to model/keypoint_classifier\\keypoint_classifier.hdf5\n",
      "30/30 [==============================] - 0s 4ms/step - loss: 0.7348 - accuracy: 0.7306 - val_loss: 0.4064 - val_accuracy: 0.9201\n",
      "Epoch 42/1000\n",
      "29/30 [============================>.] - ETA: 0s - loss: 0.7261 - accuracy: 0.7214\n",
      "Epoch 42: saving model to model/keypoint_classifier\\keypoint_classifier.hdf5\n",
      "30/30 [==============================] - 0s 4ms/step - loss: 0.7290 - accuracy: 0.7196 - val_loss: 0.4053 - val_accuracy: 0.9129\n",
      "Epoch 43/1000\n",
      "28/30 [===========================>..] - ETA: 0s - loss: 0.7058 - accuracy: 0.7450\n",
      "Epoch 43: saving model to model/keypoint_classifier\\keypoint_classifier.hdf5\n",
      "30/30 [==============================] - 0s 4ms/step - loss: 0.7070 - accuracy: 0.7465 - val_loss: 0.3964 - val_accuracy: 0.9201\n",
      "Epoch 44/1000\n",
      "28/30 [===========================>..] - ETA: 0s - loss: 0.7133 - accuracy: 0.7372\n",
      "Epoch 44: saving model to model/keypoint_classifier\\keypoint_classifier.hdf5\n",
      "30/30 [==============================] - 0s 4ms/step - loss: 0.7103 - accuracy: 0.7375 - val_loss: 0.3932 - val_accuracy: 0.9185\n",
      "Epoch 45/1000\n",
      " 1/30 [>.............................] - ETA: 0s - loss: 0.6585 - accuracy: 0.7656\n",
      "Epoch 45: saving model to model/keypoint_classifier\\keypoint_classifier.hdf5\n",
      "30/30 [==============================] - 0s 4ms/step - loss: 0.6979 - accuracy: 0.7476 - val_loss: 0.3852 - val_accuracy: 0.9209\n",
      "Epoch 46/1000\n",
      "19/30 [==================>...........] - ETA: 0s - loss: 0.6956 - accuracy: 0.7475\n",
      "Epoch 46: saving model to model/keypoint_classifier\\keypoint_classifier.hdf5\n",
      "30/30 [==============================] - 0s 5ms/step - loss: 0.7034 - accuracy: 0.7404 - val_loss: 0.3802 - val_accuracy: 0.9201\n",
      "Epoch 47/1000\n",
      "23/30 [======================>.......] - ETA: 0s - loss: 0.7117 - accuracy: 0.7395\n",
      "Epoch 47: saving model to model/keypoint_classifier\\keypoint_classifier.hdf5\n",
      "30/30 [==============================] - 0s 4ms/step - loss: 0.7081 - accuracy: 0.7388 - val_loss: 0.3740 - val_accuracy: 0.9249\n",
      "Epoch 48/1000\n",
      "27/30 [==========================>...] - ETA: 0s - loss: 0.7029 - accuracy: 0.7370\n",
      "Epoch 48: saving model to model/keypoint_classifier\\keypoint_classifier.hdf5\n",
      "30/30 [==============================] - 0s 4ms/step - loss: 0.7076 - accuracy: 0.7354 - val_loss: 0.3786 - val_accuracy: 0.9233\n",
      "Epoch 49/1000\n",
      "27/30 [==========================>...] - ETA: 0s - loss: 0.7068 - accuracy: 0.7399\n",
      "Epoch 49: saving model to model/keypoint_classifier\\keypoint_classifier.hdf5\n",
      "30/30 [==============================] - 0s 4ms/step - loss: 0.7118 - accuracy: 0.7340 - val_loss: 0.3823 - val_accuracy: 0.9129\n",
      "Epoch 50/1000\n",
      "29/30 [============================>.] - ETA: 0s - loss: 0.6984 - accuracy: 0.7427\n",
      "Epoch 50: saving model to model/keypoint_classifier\\keypoint_classifier.hdf5\n",
      "30/30 [==============================] - 0s 4ms/step - loss: 0.6997 - accuracy: 0.7423 - val_loss: 0.3695 - val_accuracy: 0.9241\n",
      "Epoch 51/1000\n",
      "26/30 [=========================>....] - ETA: 0s - loss: 0.7045 - accuracy: 0.7356\n",
      "Epoch 51: saving model to model/keypoint_classifier\\keypoint_classifier.hdf5\n",
      "30/30 [==============================] - 0s 4ms/step - loss: 0.6998 - accuracy: 0.7370 - val_loss: 0.3758 - val_accuracy: 0.9153\n",
      "Epoch 52/1000\n",
      "30/30 [==============================] - ETA: 0s - loss: 0.6841 - accuracy: 0.7444\n",
      "Epoch 52: saving model to model/keypoint_classifier\\keypoint_classifier.hdf5\n",
      "30/30 [==============================] - 0s 4ms/step - loss: 0.6841 - accuracy: 0.7444 - val_loss: 0.3667 - val_accuracy: 0.9217\n",
      "Epoch 53/1000\n",
      "28/30 [===========================>..] - ETA: 0s - loss: 0.6788 - accuracy: 0.7472\n",
      "Epoch 53: saving model to model/keypoint_classifier\\keypoint_classifier.hdf5\n",
      "30/30 [==============================] - 0s 5ms/step - loss: 0.6794 - accuracy: 0.7465 - val_loss: 0.3691 - val_accuracy: 0.9161\n",
      "Epoch 54/1000\n",
      "28/30 [===========================>..] - ETA: 0s - loss: 0.7005 - accuracy: 0.7397\n",
      "Epoch 54: saving model to model/keypoint_classifier\\keypoint_classifier.hdf5\n",
      "30/30 [==============================] - 0s 4ms/step - loss: 0.7030 - accuracy: 0.7396 - val_loss: 0.3625 - val_accuracy: 0.9225\n",
      "Epoch 55/1000\n",
      "27/30 [==========================>...] - ETA: 0s - loss: 0.6869 - accuracy: 0.7477\n",
      "Epoch 55: saving model to model/keypoint_classifier\\keypoint_classifier.hdf5\n",
      "30/30 [==============================] - 0s 4ms/step - loss: 0.6825 - accuracy: 0.7497 - val_loss: 0.3560 - val_accuracy: 0.9273\n",
      "Epoch 56/1000\n",
      "30/30 [==============================] - ETA: 0s - loss: 0.6679 - accuracy: 0.7601\n",
      "Epoch 56: saving model to model/keypoint_classifier\\keypoint_classifier.hdf5\n",
      "30/30 [==============================] - 0s 4ms/step - loss: 0.6679 - accuracy: 0.7601 - val_loss: 0.3550 - val_accuracy: 0.9297\n",
      "Epoch 57/1000\n",
      " 1/30 [>.............................] - ETA: 0s - loss: 0.7517 - accuracy: 0.7109\n",
      "Epoch 57: saving model to model/keypoint_classifier\\keypoint_classifier.hdf5\n",
      "30/30 [==============================] - 0s 4ms/step - loss: 0.6725 - accuracy: 0.7604 - val_loss: 0.3561 - val_accuracy: 0.9265\n",
      "Epoch 58/1000\n",
      " 1/30 [>.............................] - ETA: 0s - loss: 0.6683 - accuracy: 0.7734\n",
      "Epoch 58: saving model to model/keypoint_classifier\\keypoint_classifier.hdf5\n",
      "30/30 [==============================] - 0s 4ms/step - loss: 0.6715 - accuracy: 0.7561 - val_loss: 0.3510 - val_accuracy: 0.9281\n",
      "Epoch 59/1000\n",
      "29/30 [============================>.] - ETA: 0s - loss: 0.6731 - accuracy: 0.7473\n",
      "Epoch 59: saving model to model/keypoint_classifier\\keypoint_classifier.hdf5\n",
      "30/30 [==============================] - 0s 4ms/step - loss: 0.6730 - accuracy: 0.7473 - val_loss: 0.3545 - val_accuracy: 0.9169\n",
      "Epoch 60/1000\n",
      " 1/30 [>.............................] - ETA: 0s - loss: 0.5624 - accuracy: 0.7812\n",
      "Epoch 60: saving model to model/keypoint_classifier\\keypoint_classifier.hdf5\n",
      "30/30 [==============================] - 0s 4ms/step - loss: 0.6500 - accuracy: 0.7564 - val_loss: 0.3444 - val_accuracy: 0.9289\n",
      "Epoch 61/1000\n",
      " 1/30 [>.............................] - ETA: 0s - loss: 0.7441 - accuracy: 0.6797\n",
      "Epoch 61: saving model to model/keypoint_classifier\\keypoint_classifier.hdf5\n",
      "30/30 [==============================] - 0s 5ms/step - loss: 0.6727 - accuracy: 0.7559 - val_loss: 0.3485 - val_accuracy: 0.9249\n",
      "Epoch 62/1000\n",
      "20/30 [===================>..........] - ETA: 0s - loss: 0.6634 - accuracy: 0.7621\n",
      "Epoch 62: saving model to model/keypoint_classifier\\keypoint_classifier.hdf5\n",
      "30/30 [==============================] - 0s 5ms/step - loss: 0.6536 - accuracy: 0.7625 - val_loss: 0.3402 - val_accuracy: 0.9289\n",
      "Epoch 63/1000\n",
      "24/30 [=======================>......] - ETA: 0s - loss: 0.6388 - accuracy: 0.7640\n",
      "Epoch 63: saving model to model/keypoint_classifier\\keypoint_classifier.hdf5\n",
      "30/30 [==============================] - 0s 5ms/step - loss: 0.6393 - accuracy: 0.7646 - val_loss: 0.3409 - val_accuracy: 0.9281\n",
      "Epoch 64/1000\n",
      "22/30 [=====================>........] - ETA: 0s - loss: 0.6595 - accuracy: 0.7553\n",
      "Epoch 64: saving model to model/keypoint_classifier\\keypoint_classifier.hdf5\n",
      "30/30 [==============================] - 0s 4ms/step - loss: 0.6723 - accuracy: 0.7497 - val_loss: 0.3380 - val_accuracy: 0.9297\n",
      "Epoch 65/1000\n",
      "29/30 [============================>.] - ETA: 0s - loss: 0.6290 - accuracy: 0.7654\n",
      "Epoch 65: saving model to model/keypoint_classifier\\keypoint_classifier.hdf5\n",
      "30/30 [==============================] - 0s 4ms/step - loss: 0.6252 - accuracy: 0.7673 - val_loss: 0.3352 - val_accuracy: 0.9305\n",
      "Epoch 66/1000\n",
      "26/30 [=========================>....] - ETA: 0s - loss: 0.6506 - accuracy: 0.7650\n",
      "Epoch 66: saving model to model/keypoint_classifier\\keypoint_classifier.hdf5\n",
      "30/30 [==============================] - 0s 4ms/step - loss: 0.6515 - accuracy: 0.7646 - val_loss: 0.3322 - val_accuracy: 0.9313\n",
      "Epoch 67/1000\n",
      " 1/30 [>.............................] - ETA: 0s - loss: 0.5293 - accuracy: 0.8516\n",
      "Epoch 67: saving model to model/keypoint_classifier\\keypoint_classifier.hdf5\n",
      "30/30 [==============================] - 0s 4ms/step - loss: 0.6433 - accuracy: 0.7654 - val_loss: 0.3319 - val_accuracy: 0.9273\n",
      "Epoch 68/1000\n",
      "29/30 [============================>.] - ETA: 0s - loss: 0.6336 - accuracy: 0.7672\n",
      "Epoch 68: saving model to model/keypoint_classifier\\keypoint_classifier.hdf5\n",
      "30/30 [==============================] - 0s 4ms/step - loss: 0.6341 - accuracy: 0.7662 - val_loss: 0.3270 - val_accuracy: 0.9289\n",
      "Epoch 69/1000\n",
      "15/30 [==============>...............] - ETA: 0s - loss: 0.6403 - accuracy: 0.7672\n",
      "Epoch 69: saving model to model/keypoint_classifier\\keypoint_classifier.hdf5\n",
      "30/30 [==============================] - 0s 5ms/step - loss: 0.6453 - accuracy: 0.7625 - val_loss: 0.3250 - val_accuracy: 0.9321\n",
      "Epoch 70/1000\n",
      "27/30 [==========================>...] - ETA: 0s - loss: 0.6424 - accuracy: 0.7636\n",
      "Epoch 70: saving model to model/keypoint_classifier\\keypoint_classifier.hdf5\n",
      "30/30 [==============================] - 0s 4ms/step - loss: 0.6442 - accuracy: 0.7617 - val_loss: 0.3288 - val_accuracy: 0.9281\n",
      "Epoch 71/1000\n",
      "29/30 [============================>.] - ETA: 0s - loss: 0.6274 - accuracy: 0.7761\n",
      "Epoch 71: saving model to model/keypoint_classifier\\keypoint_classifier.hdf5\n",
      "30/30 [==============================] - 0s 4ms/step - loss: 0.6268 - accuracy: 0.7761 - val_loss: 0.3225 - val_accuracy: 0.9321\n",
      "Epoch 72/1000\n",
      "28/30 [===========================>..] - ETA: 0s - loss: 0.6384 - accuracy: 0.7670\n",
      "Epoch 72: saving model to model/keypoint_classifier\\keypoint_classifier.hdf5\n",
      "30/30 [==============================] - 0s 4ms/step - loss: 0.6351 - accuracy: 0.7686 - val_loss: 0.3273 - val_accuracy: 0.9257\n",
      "Epoch 73/1000\n",
      "29/30 [============================>.] - ETA: 0s - loss: 0.6310 - accuracy: 0.7635\n",
      "Epoch 73: saving model to model/keypoint_classifier\\keypoint_classifier.hdf5\n",
      "30/30 [==============================] - 0s 5ms/step - loss: 0.6324 - accuracy: 0.7633 - val_loss: 0.3227 - val_accuracy: 0.9249\n",
      "Epoch 74/1000\n",
      "26/30 [=========================>....] - ETA: 0s - loss: 0.6433 - accuracy: 0.7608\n",
      "Epoch 74: saving model to model/keypoint_classifier\\keypoint_classifier.hdf5\n",
      "30/30 [==============================] - 0s 4ms/step - loss: 0.6383 - accuracy: 0.7620 - val_loss: 0.3268 - val_accuracy: 0.9233\n",
      "Epoch 75/1000\n",
      "29/30 [============================>.] - ETA: 0s - loss: 0.6392 - accuracy: 0.7610\n",
      "Epoch 75: saving model to model/keypoint_classifier\\keypoint_classifier.hdf5\n",
      "30/30 [==============================] - 0s 4ms/step - loss: 0.6379 - accuracy: 0.7622 - val_loss: 0.3243 - val_accuracy: 0.9225\n",
      "Epoch 76/1000\n",
      "27/30 [==========================>...] - ETA: 0s - loss: 0.6585 - accuracy: 0.7598\n",
      "Epoch 76: saving model to model/keypoint_classifier\\keypoint_classifier.hdf5\n",
      "30/30 [==============================] - 0s 6ms/step - loss: 0.6581 - accuracy: 0.7593 - val_loss: 0.3211 - val_accuracy: 0.9281\n",
      "Epoch 77/1000\n",
      "24/30 [=======================>......] - ETA: 0s - loss: 0.6367 - accuracy: 0.7663\n",
      "Epoch 77: saving model to model/keypoint_classifier\\keypoint_classifier.hdf5\n",
      "30/30 [==============================] - 0s 5ms/step - loss: 0.6232 - accuracy: 0.7705 - val_loss: 0.3099 - val_accuracy: 0.9265\n",
      "Epoch 78/1000\n",
      "29/30 [============================>.] - ETA: 0s - loss: 0.6334 - accuracy: 0.7732\n",
      "Epoch 78: saving model to model/keypoint_classifier\\keypoint_classifier.hdf5\n",
      "30/30 [==============================] - 0s 4ms/step - loss: 0.6345 - accuracy: 0.7729 - val_loss: 0.3182 - val_accuracy: 0.9241\n",
      "Epoch 79/1000\n",
      "27/30 [==========================>...] - ETA: 0s - loss: 0.6421 - accuracy: 0.7812\n",
      "Epoch 79: saving model to model/keypoint_classifier\\keypoint_classifier.hdf5\n",
      "30/30 [==============================] - 0s 5ms/step - loss: 0.6331 - accuracy: 0.7827 - val_loss: 0.3243 - val_accuracy: 0.9233\n",
      "Epoch 80/1000\n",
      "28/30 [===========================>..] - ETA: 0s - loss: 0.6420 - accuracy: 0.7606\n",
      "Epoch 80: saving model to model/keypoint_classifier\\keypoint_classifier.hdf5\n",
      "30/30 [==============================] - 0s 4ms/step - loss: 0.6470 - accuracy: 0.7606 - val_loss: 0.3266 - val_accuracy: 0.9249\n",
      "Epoch 81/1000\n",
      "27/30 [==========================>...] - ETA: 0s - loss: 0.6387 - accuracy: 0.7705\n",
      "Epoch 81: saving model to model/keypoint_classifier\\keypoint_classifier.hdf5\n",
      "30/30 [==============================] - 0s 5ms/step - loss: 0.6378 - accuracy: 0.7686 - val_loss: 0.3260 - val_accuracy: 0.9241\n",
      "Epoch 82/1000\n",
      "28/30 [===========================>..] - ETA: 0s - loss: 0.6396 - accuracy: 0.7670\n",
      "Epoch 82: saving model to model/keypoint_classifier\\keypoint_classifier.hdf5\n",
      "30/30 [==============================] - 0s 4ms/step - loss: 0.6451 - accuracy: 0.7649 - val_loss: 0.3227 - val_accuracy: 0.9305\n",
      "Epoch 83/1000\n",
      "28/30 [===========================>..] - ETA: 0s - loss: 0.6208 - accuracy: 0.7740\n",
      "Epoch 83: saving model to model/keypoint_classifier\\keypoint_classifier.hdf5\n",
      "30/30 [==============================] - 0s 5ms/step - loss: 0.6230 - accuracy: 0.7729 - val_loss: 0.3251 - val_accuracy: 0.9217\n",
      "Epoch 84/1000\n",
      "26/30 [=========================>....] - ETA: 0s - loss: 0.6173 - accuracy: 0.7746\n",
      "Epoch 84: saving model to model/keypoint_classifier\\keypoint_classifier.hdf5\n",
      "30/30 [==============================] - 0s 5ms/step - loss: 0.6168 - accuracy: 0.7753 - val_loss: 0.3153 - val_accuracy: 0.9273\n",
      "Epoch 85/1000\n",
      " 1/30 [>.............................] - ETA: 0s - loss: 0.6179 - accuracy: 0.8047\n",
      "Epoch 85: saving model to model/keypoint_classifier\\keypoint_classifier.hdf5\n",
      "30/30 [==============================] - 0s 4ms/step - loss: 0.6329 - accuracy: 0.7726 - val_loss: 0.3234 - val_accuracy: 0.9209\n",
      "Epoch 86/1000\n",
      " 1/30 [>.............................] - ETA: 0s - loss: 0.6500 - accuracy: 0.7656\n",
      "Epoch 86: saving model to model/keypoint_classifier\\keypoint_classifier.hdf5\n",
      "30/30 [==============================] - 0s 4ms/step - loss: 0.6152 - accuracy: 0.7681 - val_loss: 0.3141 - val_accuracy: 0.9185\n",
      "Epoch 87/1000\n",
      "25/30 [========================>.....] - ETA: 0s - loss: 0.6070 - accuracy: 0.7794\n",
      "Epoch 87: saving model to model/keypoint_classifier\\keypoint_classifier.hdf5\n",
      "30/30 [==============================] - 0s 4ms/step - loss: 0.6066 - accuracy: 0.7788 - val_loss: 0.3101 - val_accuracy: 0.9233\n",
      "Epoch 88/1000\n",
      "25/30 [========================>.....] - ETA: 0s - loss: 0.6114 - accuracy: 0.7694\n",
      "Epoch 88: saving model to model/keypoint_classifier\\keypoint_classifier.hdf5\n",
      "30/30 [==============================] - 0s 5ms/step - loss: 0.6184 - accuracy: 0.7662 - val_loss: 0.3078 - val_accuracy: 0.9305\n",
      "Epoch 89/1000\n",
      "29/30 [============================>.] - ETA: 0s - loss: 0.6173 - accuracy: 0.7729\n",
      "Epoch 89: saving model to model/keypoint_classifier\\keypoint_classifier.hdf5\n",
      "30/30 [==============================] - 0s 5ms/step - loss: 0.6149 - accuracy: 0.7734 - val_loss: 0.3107 - val_accuracy: 0.9265\n",
      "Epoch 90/1000\n",
      "27/30 [==========================>...] - ETA: 0s - loss: 0.6136 - accuracy: 0.7789\n",
      "Epoch 90: saving model to model/keypoint_classifier\\keypoint_classifier.hdf5\n",
      "30/30 [==============================] - 0s 5ms/step - loss: 0.6150 - accuracy: 0.7788 - val_loss: 0.3022 - val_accuracy: 0.9305\n",
      "Epoch 91/1000\n",
      "17/30 [================>.............] - ETA: 0s - loss: 0.6040 - accuracy: 0.7656\n",
      "Epoch 91: saving model to model/keypoint_classifier\\keypoint_classifier.hdf5\n",
      "30/30 [==============================] - 0s 6ms/step - loss: 0.6075 - accuracy: 0.7737 - val_loss: 0.3075 - val_accuracy: 0.9209\n",
      "Epoch 92/1000\n",
      "28/30 [===========================>..] - ETA: 0s - loss: 0.6158 - accuracy: 0.7701\n",
      "Epoch 92: saving model to model/keypoint_classifier\\keypoint_classifier.hdf5\n",
      "30/30 [==============================] - 0s 4ms/step - loss: 0.6117 - accuracy: 0.7716 - val_loss: 0.3086 - val_accuracy: 0.9217\n",
      "Epoch 93/1000\n",
      "30/30 [==============================] - ETA: 0s - loss: 0.6090 - accuracy: 0.7753\n",
      "Epoch 93: saving model to model/keypoint_classifier\\keypoint_classifier.hdf5\n",
      "30/30 [==============================] - 0s 4ms/step - loss: 0.6090 - accuracy: 0.7753 - val_loss: 0.3122 - val_accuracy: 0.9233\n",
      "Epoch 94/1000\n",
      "23/30 [======================>.......] - ETA: 0s - loss: 0.6129 - accuracy: 0.7768\n",
      "Epoch 94: saving model to model/keypoint_classifier\\keypoint_classifier.hdf5\n",
      "30/30 [==============================] - 0s 5ms/step - loss: 0.6156 - accuracy: 0.7764 - val_loss: 0.3131 - val_accuracy: 0.9217\n",
      "Epoch 95/1000\n",
      "29/30 [============================>.] - ETA: 0s - loss: 0.6108 - accuracy: 0.7786\n",
      "Epoch 95: saving model to model/keypoint_classifier\\keypoint_classifier.hdf5\n",
      "30/30 [==============================] - 0s 4ms/step - loss: 0.6082 - accuracy: 0.7793 - val_loss: 0.3118 - val_accuracy: 0.9265\n",
      "Epoch 96/1000\n",
      "26/30 [=========================>....] - ETA: 0s - loss: 0.5991 - accuracy: 0.7849\n",
      "Epoch 96: saving model to model/keypoint_classifier\\keypoint_classifier.hdf5\n",
      "30/30 [==============================] - 0s 5ms/step - loss: 0.5990 - accuracy: 0.7859 - val_loss: 0.3094 - val_accuracy: 0.9217\n",
      "Epoch 97/1000\n",
      "27/30 [==========================>...] - ETA: 0s - loss: 0.6223 - accuracy: 0.7645\n",
      "Epoch 97: saving model to model/keypoint_classifier\\keypoint_classifier.hdf5\n",
      "30/30 [==============================] - 0s 4ms/step - loss: 0.6151 - accuracy: 0.7668 - val_loss: 0.3059 - val_accuracy: 0.9273\n",
      "Epoch 98/1000\n",
      "18/30 [=================>............] - ETA: 0s - loss: 0.6390 - accuracy: 0.7639\n",
      "Epoch 98: saving model to model/keypoint_classifier\\keypoint_classifier.hdf5\n",
      "30/30 [==============================] - 0s 5ms/step - loss: 0.6343 - accuracy: 0.7710 - val_loss: 0.3080 - val_accuracy: 0.9209\n",
      "Epoch 99/1000\n",
      "27/30 [==========================>...] - ETA: 0s - loss: 0.6151 - accuracy: 0.7717\n",
      "Epoch 99: saving model to model/keypoint_classifier\\keypoint_classifier.hdf5\n",
      "30/30 [==============================] - 0s 5ms/step - loss: 0.6182 - accuracy: 0.7705 - val_loss: 0.3150 - val_accuracy: 0.9193\n",
      "Epoch 100/1000\n",
      "27/30 [==========================>...] - ETA: 0s - loss: 0.6226 - accuracy: 0.7717\n",
      "Epoch 100: saving model to model/keypoint_classifier\\keypoint_classifier.hdf5\n",
      "30/30 [==============================] - 0s 4ms/step - loss: 0.6156 - accuracy: 0.7777 - val_loss: 0.3107 - val_accuracy: 0.9321\n",
      "Epoch 101/1000\n",
      "27/30 [==========================>...] - ETA: 0s - loss: 0.5988 - accuracy: 0.7810\n",
      "Epoch 101: saving model to model/keypoint_classifier\\keypoint_classifier.hdf5\n",
      "30/30 [==============================] - 0s 4ms/step - loss: 0.5962 - accuracy: 0.7809 - val_loss: 0.3028 - val_accuracy: 0.9273\n",
      "Epoch 102/1000\n",
      " 1/30 [>.............................] - ETA: 0s - loss: 0.5932 - accuracy: 0.7422\n",
      "Epoch 102: saving model to model/keypoint_classifier\\keypoint_classifier.hdf5\n",
      "30/30 [==============================] - 0s 4ms/step - loss: 0.6113 - accuracy: 0.7788 - val_loss: 0.3028 - val_accuracy: 0.9241\n",
      "Epoch 103/1000\n",
      "26/30 [=========================>....] - ETA: 0s - loss: 0.6210 - accuracy: 0.7719\n",
      "Epoch 103: saving model to model/keypoint_classifier\\keypoint_classifier.hdf5\n",
      "30/30 [==============================] - 0s 4ms/step - loss: 0.6256 - accuracy: 0.7716 - val_loss: 0.3170 - val_accuracy: 0.9201\n",
      "Epoch 104/1000\n",
      "25/30 [========================>.....] - ETA: 0s - loss: 0.5994 - accuracy: 0.7775\n",
      "Epoch 104: saving model to model/keypoint_classifier\\keypoint_classifier.hdf5\n",
      "30/30 [==============================] - 0s 5ms/step - loss: 0.6004 - accuracy: 0.7785 - val_loss: 0.3108 - val_accuracy: 0.9185\n",
      "Epoch 105/1000\n",
      "20/30 [===================>..........] - ETA: 0s - loss: 0.6020 - accuracy: 0.7750\n",
      "Epoch 105: saving model to model/keypoint_classifier\\keypoint_classifier.hdf5\n",
      "30/30 [==============================] - 0s 5ms/step - loss: 0.6112 - accuracy: 0.7716 - val_loss: 0.3059 - val_accuracy: 0.9273\n",
      "Epoch 106/1000\n",
      "27/30 [==========================>...] - ETA: 0s - loss: 0.6081 - accuracy: 0.7792\n",
      "Epoch 106: saving model to model/keypoint_classifier\\keypoint_classifier.hdf5\n",
      "30/30 [==============================] - 0s 4ms/step - loss: 0.6056 - accuracy: 0.7793 - val_loss: 0.3038 - val_accuracy: 0.9289\n",
      "Epoch 107/1000\n",
      "25/30 [========================>.....] - ETA: 0s - loss: 0.6068 - accuracy: 0.7825\n",
      "Epoch 107: saving model to model/keypoint_classifier\\keypoint_classifier.hdf5\n",
      "30/30 [==============================] - 0s 5ms/step - loss: 0.6076 - accuracy: 0.7806 - val_loss: 0.3067 - val_accuracy: 0.9241\n",
      "Epoch 108/1000\n",
      "29/30 [============================>.] - ETA: 0s - loss: 0.6070 - accuracy: 0.7802\n",
      "Epoch 108: saving model to model/keypoint_classifier\\keypoint_classifier.hdf5\n",
      "30/30 [==============================] - 0s 5ms/step - loss: 0.6059 - accuracy: 0.7809 - val_loss: 0.3089 - val_accuracy: 0.9209\n",
      "Epoch 109/1000\n",
      "25/30 [========================>.....] - ETA: 0s - loss: 0.6062 - accuracy: 0.7775\n",
      "Epoch 109: saving model to model/keypoint_classifier\\keypoint_classifier.hdf5\n",
      "30/30 [==============================] - 0s 5ms/step - loss: 0.6001 - accuracy: 0.7788 - val_loss: 0.3022 - val_accuracy: 0.9281\n",
      "Epoch 110/1000\n",
      "26/30 [=========================>....] - ETA: 0s - loss: 0.6152 - accuracy: 0.7788\n",
      "Epoch 110: saving model to model/keypoint_classifier\\keypoint_classifier.hdf5\n",
      "30/30 [==============================] - 0s 5ms/step - loss: 0.6224 - accuracy: 0.7750 - val_loss: 0.3000 - val_accuracy: 0.9249\n",
      "Epoch 111/1000\n",
      "27/30 [==========================>...] - ETA: 0s - loss: 0.6235 - accuracy: 0.7720\n",
      "Epoch 111: saving model to model/keypoint_classifier\\keypoint_classifier.hdf5\n",
      "30/30 [==============================] - 0s 6ms/step - loss: 0.6197 - accuracy: 0.7737 - val_loss: 0.2980 - val_accuracy: 0.9281\n",
      "Epoch 112/1000\n",
      "17/30 [================>.............] - ETA: 0s - loss: 0.5996 - accuracy: 0.7831\n",
      "Epoch 112: saving model to model/keypoint_classifier\\keypoint_classifier.hdf5\n",
      "30/30 [==============================] - 0s 7ms/step - loss: 0.6059 - accuracy: 0.7785 - val_loss: 0.3033 - val_accuracy: 0.9257\n",
      "Epoch 113/1000\n",
      "25/30 [========================>.....] - ETA: 0s - loss: 0.6180 - accuracy: 0.7669\n",
      "Epoch 113: saving model to model/keypoint_classifier\\keypoint_classifier.hdf5\n",
      "30/30 [==============================] - 0s 5ms/step - loss: 0.6153 - accuracy: 0.7684 - val_loss: 0.3009 - val_accuracy: 0.9273\n",
      "Epoch 114/1000\n",
      "27/30 [==========================>...] - ETA: 0s - loss: 0.5732 - accuracy: 0.7850\n",
      "Epoch 114: saving model to model/keypoint_classifier\\keypoint_classifier.hdf5\n",
      "30/30 [==============================] - 0s 4ms/step - loss: 0.5779 - accuracy: 0.7838 - val_loss: 0.2993 - val_accuracy: 0.9241\n",
      "Epoch 115/1000\n",
      "29/30 [============================>.] - ETA: 0s - loss: 0.6001 - accuracy: 0.7831\n",
      "Epoch 115: saving model to model/keypoint_classifier\\keypoint_classifier.hdf5\n",
      "30/30 [==============================] - 0s 4ms/step - loss: 0.6036 - accuracy: 0.7804 - val_loss: 0.3021 - val_accuracy: 0.9233\n",
      "Epoch 116/1000\n",
      " 1/30 [>.............................] - ETA: 0s - loss: 0.5653 - accuracy: 0.7578\n",
      "Epoch 116: saving model to model/keypoint_classifier\\keypoint_classifier.hdf5\n",
      "30/30 [==============================] - 0s 4ms/step - loss: 0.6026 - accuracy: 0.7758 - val_loss: 0.2940 - val_accuracy: 0.9305\n",
      "Epoch 117/1000\n",
      " 1/30 [>.............................] - ETA: 0s - loss: 0.5239 - accuracy: 0.8047\n",
      "Epoch 117: saving model to model/keypoint_classifier\\keypoint_classifier.hdf5\n",
      "30/30 [==============================] - 0s 4ms/step - loss: 0.5970 - accuracy: 0.7809 - val_loss: 0.2933 - val_accuracy: 0.9289\n",
      "Epoch 118/1000\n",
      "29/30 [============================>.] - ETA: 0s - loss: 0.6065 - accuracy: 0.7829\n",
      "Epoch 118: saving model to model/keypoint_classifier\\keypoint_classifier.hdf5\n",
      "30/30 [==============================] - 0s 4ms/step - loss: 0.6054 - accuracy: 0.7833 - val_loss: 0.3028 - val_accuracy: 0.9201\n",
      "Epoch 119/1000\n",
      "23/30 [======================>.......] - ETA: 0s - loss: 0.5999 - accuracy: 0.7792\n",
      "Epoch 119: saving model to model/keypoint_classifier\\keypoint_classifier.hdf5\n",
      "30/30 [==============================] - 0s 5ms/step - loss: 0.5862 - accuracy: 0.7854 - val_loss: 0.2989 - val_accuracy: 0.9241\n",
      "Epoch 120/1000\n",
      "30/30 [==============================] - ETA: 0s - loss: 0.5830 - accuracy: 0.7881\n",
      "Epoch 120: saving model to model/keypoint_classifier\\keypoint_classifier.hdf5\n",
      "30/30 [==============================] - 0s 4ms/step - loss: 0.5830 - accuracy: 0.7881 - val_loss: 0.3020 - val_accuracy: 0.9217\n",
      "Epoch 121/1000\n",
      "24/30 [=======================>......] - ETA: 0s - loss: 0.5846 - accuracy: 0.7832\n",
      "Epoch 121: saving model to model/keypoint_classifier\\keypoint_classifier.hdf5\n",
      "30/30 [==============================] - 0s 4ms/step - loss: 0.5934 - accuracy: 0.7804 - val_loss: 0.2879 - val_accuracy: 0.9265\n",
      "Epoch 122/1000\n",
      " 1/30 [>.............................] - ETA: 0s - loss: 0.4578 - accuracy: 0.8438\n",
      "Epoch 122: saving model to model/keypoint_classifier\\keypoint_classifier.hdf5\n",
      "30/30 [==============================] - 0s 4ms/step - loss: 0.6067 - accuracy: 0.7788 - val_loss: 0.2980 - val_accuracy: 0.9209\n",
      "Epoch 123/1000\n",
      "29/30 [============================>.] - ETA: 0s - loss: 0.5868 - accuracy: 0.7883\n",
      "Epoch 123: saving model to model/keypoint_classifier\\keypoint_classifier.hdf5\n",
      "30/30 [==============================] - 0s 4ms/step - loss: 0.5876 - accuracy: 0.7878 - val_loss: 0.2939 - val_accuracy: 0.9241\n",
      "Epoch 124/1000\n",
      "30/30 [==============================] - ETA: 0s - loss: 0.5795 - accuracy: 0.7902\n",
      "Epoch 124: saving model to model/keypoint_classifier\\keypoint_classifier.hdf5\n",
      "30/30 [==============================] - 0s 4ms/step - loss: 0.5795 - accuracy: 0.7902 - val_loss: 0.2985 - val_accuracy: 0.9225\n",
      "Epoch 125/1000\n",
      "29/30 [============================>.] - ETA: 0s - loss: 0.5849 - accuracy: 0.7907\n",
      "Epoch 125: saving model to model/keypoint_classifier\\keypoint_classifier.hdf5\n",
      "30/30 [==============================] - 0s 4ms/step - loss: 0.5878 - accuracy: 0.7910 - val_loss: 0.2934 - val_accuracy: 0.9201\n",
      "Epoch 126/1000\n",
      " 1/30 [>.............................] - ETA: 0s - loss: 0.5803 - accuracy: 0.7656\n",
      "Epoch 126: saving model to model/keypoint_classifier\\keypoint_classifier.hdf5\n",
      "30/30 [==============================] - 0s 4ms/step - loss: 0.5852 - accuracy: 0.7841 - val_loss: 0.2956 - val_accuracy: 0.9201\n",
      "Epoch 127/1000\n",
      "16/30 [===============>..............] - ETA: 0s - loss: 0.5899 - accuracy: 0.7891\n",
      "Epoch 127: saving model to model/keypoint_classifier\\keypoint_classifier.hdf5\n",
      "30/30 [==============================] - 0s 6ms/step - loss: 0.6046 - accuracy: 0.7873 - val_loss: 0.2959 - val_accuracy: 0.9249\n",
      "Epoch 128/1000\n",
      "22/30 [=====================>........] - ETA: 0s - loss: 0.5908 - accuracy: 0.7884\n",
      "Epoch 128: saving model to model/keypoint_classifier\\keypoint_classifier.hdf5\n",
      "30/30 [==============================] - 0s 5ms/step - loss: 0.6053 - accuracy: 0.7804 - val_loss: 0.2979 - val_accuracy: 0.9201\n",
      "Epoch 129/1000\n",
      "24/30 [=======================>......] - ETA: 0s - loss: 0.6006 - accuracy: 0.7845\n",
      "Epoch 129: saving model to model/keypoint_classifier\\keypoint_classifier.hdf5\n",
      "30/30 [==============================] - 0s 5ms/step - loss: 0.5948 - accuracy: 0.7851 - val_loss: 0.2974 - val_accuracy: 0.9257\n",
      "Epoch 130/1000\n",
      "27/30 [==========================>...] - ETA: 0s - loss: 0.5860 - accuracy: 0.7812\n",
      "Epoch 130: saving model to model/keypoint_classifier\\keypoint_classifier.hdf5\n",
      "30/30 [==============================] - 0s 4ms/step - loss: 0.5832 - accuracy: 0.7830 - val_loss: 0.3001 - val_accuracy: 0.9241\n",
      "Epoch 131/1000\n",
      " 1/30 [>.............................] - ETA: 0s - loss: 0.5566 - accuracy: 0.8047\n",
      "Epoch 131: saving model to model/keypoint_classifier\\keypoint_classifier.hdf5\n",
      "30/30 [==============================] - 0s 4ms/step - loss: 0.6014 - accuracy: 0.7777 - val_loss: 0.2988 - val_accuracy: 0.9265\n",
      "Epoch 132/1000\n",
      "30/30 [==============================] - ETA: 0s - loss: 0.5826 - accuracy: 0.7841\n",
      "Epoch 132: saving model to model/keypoint_classifier\\keypoint_classifier.hdf5\n",
      "30/30 [==============================] - 0s 4ms/step - loss: 0.5826 - accuracy: 0.7841 - val_loss: 0.2964 - val_accuracy: 0.9241\n",
      "Epoch 133/1000\n",
      "28/30 [===========================>..] - ETA: 0s - loss: 0.5820 - accuracy: 0.7866\n",
      "Epoch 133: saving model to model/keypoint_classifier\\keypoint_classifier.hdf5\n",
      "30/30 [==============================] - 0s 5ms/step - loss: 0.5849 - accuracy: 0.7865 - val_loss: 0.2958 - val_accuracy: 0.9233\n",
      "Epoch 134/1000\n",
      "15/30 [==============>...............] - ETA: 0s - loss: 0.5747 - accuracy: 0.7875\n",
      "Epoch 134: saving model to model/keypoint_classifier\\keypoint_classifier.hdf5\n",
      "30/30 [==============================] - 0s 5ms/step - loss: 0.5740 - accuracy: 0.7897 - val_loss: 0.3016 - val_accuracy: 0.9185\n",
      "Epoch 135/1000\n",
      "28/30 [===========================>..] - ETA: 0s - loss: 0.5733 - accuracy: 0.7958\n",
      "Epoch 135: saving model to model/keypoint_classifier\\keypoint_classifier.hdf5\n",
      "30/30 [==============================] - 0s 5ms/step - loss: 0.5743 - accuracy: 0.7953 - val_loss: 0.2886 - val_accuracy: 0.9249\n",
      "Epoch 136/1000\n",
      "28/30 [===========================>..] - ETA: 0s - loss: 0.6148 - accuracy: 0.7785\n",
      "Epoch 136: saving model to model/keypoint_classifier\\keypoint_classifier.hdf5\n",
      "30/30 [==============================] - 0s 4ms/step - loss: 0.6099 - accuracy: 0.7812 - val_loss: 0.2941 - val_accuracy: 0.9257\n",
      "Epoch 137/1000\n",
      " 1/30 [>.............................] - ETA: 0s - loss: 0.5963 - accuracy: 0.7734\n",
      "Epoch 137: saving model to model/keypoint_classifier\\keypoint_classifier.hdf5\n",
      "30/30 [==============================] - 0s 4ms/step - loss: 0.6025 - accuracy: 0.7905 - val_loss: 0.2996 - val_accuracy: 0.9265\n",
      "Epoch 138/1000\n",
      "28/30 [===========================>..] - ETA: 0s - loss: 0.5709 - accuracy: 0.7907\n",
      "Epoch 138: saving model to model/keypoint_classifier\\keypoint_classifier.hdf5\n",
      "30/30 [==============================] - 0s 4ms/step - loss: 0.5765 - accuracy: 0.7889 - val_loss: 0.2996 - val_accuracy: 0.9225\n",
      "Epoch 139/1000\n",
      " 1/30 [>.............................] - ETA: 0s - loss: 0.6411 - accuracy: 0.7344\n",
      "Epoch 139: saving model to model/keypoint_classifier\\keypoint_classifier.hdf5\n",
      "30/30 [==============================] - 0s 4ms/step - loss: 0.5805 - accuracy: 0.7905 - val_loss: 0.2917 - val_accuracy: 0.9249\n",
      "Epoch 140/1000\n",
      "30/30 [==============================] - ETA: 0s - loss: 0.5877 - accuracy: 0.7822\n",
      "Epoch 140: saving model to model/keypoint_classifier\\keypoint_classifier.hdf5\n",
      "30/30 [==============================] - 0s 4ms/step - loss: 0.5877 - accuracy: 0.7822 - val_loss: 0.2882 - val_accuracy: 0.9249\n",
      "Epoch 141/1000\n",
      "18/30 [=================>............] - ETA: 0s - loss: 0.6000 - accuracy: 0.7843\n",
      "Epoch 141: saving model to model/keypoint_classifier\\keypoint_classifier.hdf5\n",
      "30/30 [==============================] - 0s 5ms/step - loss: 0.5838 - accuracy: 0.7862 - val_loss: 0.2903 - val_accuracy: 0.9241\n",
      "Epoch 141: early stopping\n"
     ]
    },
    {
     "data": {
      "text/plain": [
       "<keras.src.callbacks.History at 0x1e8291ab5b0>"
      ]
     },
     "execution_count": 11,
     "metadata": {},
     "output_type": "execute_result"
    }
   ],
   "source": [
    "model.fit(\n",
    "    X_train,\n",
    "    y_train,\n",
    "    epochs=1000,\n",
    "    batch_size=128,\n",
    "    validation_data=(X_test, y_test),\n",
    "    callbacks=[cp_callback, es_callback]\n",
    ")"
   ]
  },
  {
   "cell_type": "code",
   "execution_count": 12,
   "metadata": {},
   "outputs": [
    {
     "name": "stdout",
     "output_type": "stream",
     "text": [
      "10/10 [==============================] - 0s 2ms/step - loss: 0.2903 - accuracy: 0.9241\n"
     ]
    }
   ],
   "source": [
    "# モデル評価\n",
    "val_loss, val_acc = model.evaluate(X_test, y_test, batch_size=128)"
   ]
  },
  {
   "cell_type": "code",
   "execution_count": 13,
   "metadata": {},
   "outputs": [],
   "source": [
    "# 保存したモデルのロード\n",
    "model = tf.keras.models.load_model(model_save_path)"
   ]
  },
  {
   "cell_type": "code",
   "execution_count": 14,
   "metadata": {},
   "outputs": [
    {
     "name": "stdout",
     "output_type": "stream",
     "text": [
      "1/1 [==============================] - 0s 79ms/step\n",
      "[6.1716250e-04 9.8068327e-01 1.8594818e-02 5.1236243e-06 9.9567267e-05]\n",
      "1\n"
     ]
    }
   ],
   "source": [
    "# 推論テスト\n",
    "predict_result = model.predict(np.array([X_test[0]]))\n",
    "print(np.squeeze(predict_result))\n",
    "print(np.argmax(np.squeeze(predict_result)))"
   ]
  },
  {
   "cell_type": "markdown",
   "metadata": {},
   "source": [
    "# 混同行列"
   ]
  },
  {
   "cell_type": "code",
   "execution_count": 15,
   "metadata": {},
   "outputs": [
    {
     "name": "stdout",
     "output_type": "stream",
     "text": [
      "40/40 [==============================] - 0s 1ms/step\n"
     ]
    },
    {
     "data": {
      "image/png": "[encoded data removed]",
      "text/plain": [
       "<Figure size 700x600 with 2 Axes>"
      ]
     },
     "metadata": {},
     "output_type": "display_data"
    },
    {
     "name": "stdout",
     "output_type": "stream",
     "text": [
      "Classification Report\n",
      "              precision    recall  f1-score   support\n",
      "\n",
      "           0       0.97      0.99      0.98       391\n",
      "           1       0.92      0.88      0.90       379\n",
      "           2       0.89      0.99      0.93       343\n",
      "           3       0.80      0.78      0.79        67\n",
      "           4       1.00      0.62      0.77        72\n",
      "\n",
      "    accuracy                           0.92      1252\n",
      "   macro avg       0.92      0.85      0.87      1252\n",
      "weighted avg       0.93      0.92      0.92      1252\n",
      "\n"
     ]
    }
   ],
   "source": [
    "import pandas as pd\n",
    "import seaborn as sns\n",
    "import matplotlib.pyplot as plt\n",
    "from sklearn.metrics import confusion_matrix, classification_report\n",
    "\n",
    "def print_confusion_matrix(y_true, y_pred, report=True):\n",
    "    labels = sorted(list(set(y_true)))\n",
    "    cmx_data = confusion_matrix(y_true, y_pred, labels=labels)\n",
    "    \n",
    "    df_cmx = pd.DataFrame(cmx_data, index=labels, columns=labels)\n",
    " \n",
    "    fig, ax = plt.subplots(figsize=(7, 6))\n",
    "    sns.heatmap(df_cmx, annot=True, fmt='g' ,square=False)\n",
    "    ax.set_ylim(len(set(y_true)), 0)\n",
    "    plt.show()\n",
    "    \n",
    "    if report:\n",
    "        print('Classification Report')\n",
    "        print(classification_report(y_test, y_pred))\n",
    "\n",
    "Y_pred = model.predict(X_test)\n",
    "y_pred = np.argmax(Y_pred, axis=1)\n",
    "\n",
    "print_confusion_matrix(y_test, y_pred)"
   ]
  },
  {
   "cell_type": "markdown",
   "metadata": {},
   "source": [
    "# Tensorflow-Lite用のモデルへ変換"
   ]
  },
  {
   "cell_type": "code",
   "execution_count": 16,
   "metadata": {},
   "outputs": [
    {
     "name": "stderr",
     "output_type": "stream",
     "text": [
      "C:\\Program Files\\Python39\\lib\\site-packages\\keras\\src\\engine\\training.py:3000: UserWarning: You are saving your model as an HDF5 file via `model.save()`. This file format is considered legacy. We recommend using instead the native Keras format, e.g. `model.save('my_model.keras')`.\n",
      "  saving_api.save_model(\n"
     ]
    }
   ],
   "source": [
    "# 推論専用のモデルとして保存\n",
    "model.save(model_save_path, include_optimizer=False)"
   ]
  },
  {
   "cell_type": "code",
   "execution_count": 17,
   "metadata": {},
   "outputs": [
    {
     "name": "stdout",
     "output_type": "stream",
     "text": [
      "INFO:tensorflow:Assets written to: C:\\Users\\Tolu\\AppData\\Local\\Temp\\tmp4i3w5x2q\\assets\n"
     ]
    },
    {
     "name": "stderr",
     "output_type": "stream",
     "text": [
      "INFO:tensorflow:Assets written to: C:\\Users\\Tolu\\AppData\\Local\\Temp\\tmp4i3w5x2q\\assets\n"
     ]
    },
    {
     "data": {
      "text/plain": [
       "6588"
      ]
     },
     "execution_count": 17,
     "metadata": {},
     "output_type": "execute_result"
    }
   ],
   "source": [
    "# モデルを変換(量子化)\n",
    "tflite_save_path = 'model/keypoint_classifier/keypoint_classifier.tflite'\n",
    "\n",
    "converter = tf.lite.TFLiteConverter.from_keras_model(model)\n",
    "converter.optimizations = [tf.lite.Optimize.DEFAULT]\n",
    "tflite_quantized_model = converter.convert()\n",
    "\n",
    "open(tflite_save_path, 'wb').write(tflite_quantized_model)"
   ]
  },
  {
   "cell_type": "markdown",
   "metadata": {},
   "source": [
    "# 推論テスト"
   ]
  },
  {
   "cell_type": "code",
   "execution_count": 18,
   "metadata": {},
   "outputs": [],
   "source": [
    "interpreter = tf.lite.Interpreter(model_path=tflite_save_path)\n",
    "interpreter.allocate_tensors()"
   ]
  },
  {
   "cell_type": "code",
   "execution_count": 19,
   "metadata": {},
   "outputs": [],
   "source": [
    "# 入出力テンソルを取得\n",
    "input_details = interpreter.get_input_details()\n",
    "output_details = interpreter.get_output_details()"
   ]
  },
  {
   "cell_type": "code",
   "execution_count": 20,
   "metadata": {},
   "outputs": [],
   "source": [
    "interpreter.set_tensor(input_details[0]['index'], np.array([X_test[0]]))"
   ]
  },
  {
   "cell_type": "code",
   "execution_count": 21,
   "metadata": {
    "scrolled": true
   },
   "outputs": [
    {
     "name": "stdout",
     "output_type": "stream",
     "text": [
      "CPU times: total: 0 ns\n",
      "Wall time: 4 ms\n"
     ]
    }
   ],
   "source": [
    "%%time\n",
    "# 推論実施\n",
    "interpreter.invoke()\n",
    "tflite_results = interpreter.get_tensor(output_details[0]['index'])"
   ]
  },
  {
   "cell_type": "code",
   "execution_count": 22,
   "metadata": {},
   "outputs": [
    {
     "name": "stdout",
     "output_type": "stream",
     "text": [
      "[6.1716221e-04 9.8068327e-01 1.8594807e-02 5.1236298e-06 9.9567253e-05]\n",
      "1\n"
     ]
    }
   ],
   "source": [
    "print(np.squeeze(tflite_results))\n",
    "print(np.argmax(np.squeeze(tflite_results)))"
   ]
  }
 ],
 "metadata": {
  "kernelspec": {
   "display_name": "Python 3 (ipykernel)",
   "language": "python",
   "name": "python3"
  },
  "language_info": {
   "codemirror_mode": {
    "name": "ipython",
    "version": 3
   },
   "file_extension": ".py",
   "mimetype": "text/x-python",
   "name": "python",
   "nbconvert_exporter": "python",
   "pygments_lexer": "ipython3",
   "version": "3.9.13"
  }
 },
 "nbformat": 4,
 "nbformat_minor": 4
}
